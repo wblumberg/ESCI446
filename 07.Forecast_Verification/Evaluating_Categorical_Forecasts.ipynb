{
 "cells": [
  {
   "cell_type": "markdown",
   "id": "9344c7f2-6d8e-4b5f-942e-7468e9576633",
   "metadata": {},
   "source": [
    "# Finley (1884) Tornado Forecasts - Evaluating Categorical Forecasts"
   ]
  },
  {
   "cell_type": "markdown",
   "id": "b9ffe032-a389-4bef-9bba-b385572fbe85",
   "metadata": {},
   "source": [
    "In March 1884 Sergeant John Finley initiated twice daily tornado forecasts for eighteen regions in the United States, east of the Rocky Mountains. Finley claimed 95.6% to 98.6% overall accuracy for the first 3-month period, depending on the time and district, with some districts achieving 100% accuracy for all 3 months.  Let's look at these forecasts and compare them to observations using a contingency table.\n",
    "\n",
    "This method of evaluating forecasts looks at categorical forecasts.  For example, we could be predicting a yes/no for an event or whether or not a temperature reaches above/below freezing.  We can make these forecasts for not only two categories, but as many categories as we need."
   ]
  },
  {
   "cell_type": "code",
   "execution_count": null,
   "id": "f3477e04-49b8-4818-b2c7-9f63bd5e6c57",
   "metadata": {},
   "outputs": [],
   "source": [
    "a = 28 # True positive\n",
    "b = 72 # False positive\n",
    "c = 23 # True negative\n",
    "d = 2680 # False negative\n",
    "\n",
    "# https://www.cawcr.gov.au/projects/verification/Finley/Finley_Tornados.html"
   ]
  },
  {
   "cell_type": "markdown",
   "id": "265b8d44-5c45-4388-8270-29ecc21c7876",
   "metadata": {},
   "source": [
    "Calculate the accuracy (fraction correct):"
   ]
  },
  {
   "cell_type": "code",
   "execution_count": null,
   "id": "d672f0a6-b96e-4cdc-99f7-3a983e8db163",
   "metadata": {},
   "outputs": [],
   "source": [
    "def accuracy():\n",
    "    return\n"
   ]
  }
 ],
 "metadata": {
  "kernelspec": {
   "display_name": "Python 3 (ipykernel)",
   "language": "python",
   "name": "python3"
  },
  "language_info": {
   "codemirror_mode": {
    "name": "ipython",
    "version": 3
   },
   "file_extension": ".py",
   "mimetype": "text/x-python",
   "name": "python",
   "nbconvert_exporter": "python",
   "pygments_lexer": "ipython3",
   "version": "3.9.13"
  }
 },
 "nbformat": 4,
 "nbformat_minor": 5
}
