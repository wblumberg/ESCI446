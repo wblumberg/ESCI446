{
 "cells": [
  {
   "cell_type": "markdown",
   "id": "a4a8a4ee-8456-490a-9d95-53421dcfea20",
   "metadata": {},
   "source": [
    "# Examples of the Frequentist Framework"
   ]
  },
  {
   "cell_type": "markdown",
   "id": "29704c00-a1e4-4d0b-85f9-bb0f4a65092c",
   "metadata": {},
   "source": [
    "As mentioned on Tuesday, the Frequentist perspective tends to focus on probabilities about the data, rather than the hypothesis or parameters.  The primary aim of many frequentist tests on data is to see if you can reject the null hypothesis:\n",
    "\n",
    "$H_0$ - The null hypothesis suggests that no statistical relationship and significance exists in a set of given single observed variable, between two sets of observed data and measured phenomena.\n",
    "\n",
    "There are many different ways to test hypotheses (we'll get to more of these later), but this notebook introduces two scenarios you can explore.\n",
    "\n",
    "First, let's import a few packages that will help us:"
   ]
  },
  {
   "cell_type": "code",
   "execution_count": 24,
   "id": "1887ae87-c682-4f64-b0f5-e7cbc1d6e4e4",
   "metadata": {},
   "outputs": [],
   "source": [
    "%matplotlib inline\n",
    "import numpy as np\n",
    "import scipy.stats as stats\n",
    "import matplotlib.pyplot as plt"
   ]
  },
  {
   "cell_type": "markdown",
   "id": "65f9d5a6-4472-42f3-9ec8-e54b9f3139ff",
   "metadata": {},
   "source": [
    "Now, we're going to use some random numbers that Python can generate for us.  However, to make things simple, we're going to force Python to generate the same random numbers for each person running this notebook.  To do this, we set the \"seed\" to be the same value across computers."
   ]
  },
  {
   "cell_type": "code",
   "execution_count": 24,
   "id": "bc140bbb-7fcd-4448-a3e2-288246de1f9e",
   "metadata": {},
   "outputs": [],
   "source": [
    "# seed the random number generator (this helps everyone stay consistent)\n",
    "np.random.seed(1)"
   ]
  },
  {
   "cell_type": "markdown",
   "id": "49b8f9ce-f270-466d-88bc-075bc22c5b23",
   "metadata": {},
   "source": [
    "### Example 1"
   ]
  },
  {
   "cell_type": "markdown",
   "id": "3ed4cd56-05bd-4665-9784-b4655867b426",
   "metadata": {},
   "source": [
    "Imagine that you're working at the Environmental Modeling Center in College Park, MD.  Your job is to help improve the forecast models, and in particular the Global Forecasting System (GFS).  Your group has been developing the 16th version of the GFS model and has been running both Version 16 and Version 15 of the GFS to compare their accuracy at forecasting temperature.  \n",
    "\n",
    "For this scenario, we're going to generate a random distribution of temperature errors from each \"version\".  We're making up some fake data here for simplicity using the Normal Distribution, which needs a mean (loc), spread (scale), and size.  Keep in mind that in reality, we don't know much about the underlying distribution of errors (e.g., mean, spread, etc.).  We can only sample them.\n",
    "\n",
    "For the GFSv15, we're going imagine that it has a warm bias, and we'll make that bias to be 1 C.  In our updated model (GFSv16), we've made changes tht removed the bias.  Let's generate our fake data here.  Imagine that we have $N_{forecasts}=50$."
   ]
  },
  {
   "cell_type": "code",
   "execution_count": 89,
   "id": "ccdb4dae-f7d8-4dbd-a90e-3e721e0dc957",
   "metadata": {},
   "outputs": [],
   "source": [
    "N_forecasts = 50\n",
    "\n",
    "gfs15_bias = 1\n",
    "gfs16_bias = 0\n",
    "\n",
    "# create two independent sample groups\n",
    "gfs15_sample = np.random.normal(loc=gfs15_bias, scale=4, size=N_forecasts)\n",
    "gfs16_sample = np.random.normal(loc=gfs16_bias, scale=4, size=N_forecasts)"
   ]
  },
  {
   "cell_type": "markdown",
   "id": "66d3b2cf-933a-4c73-9fcc-931471271395",
   "metadata": {},
   "source": [
    "Before we do anything else, let's stop and take a look at the data we generated.  Let's make two plots - each is a histogram of the temperature errors from the two GFS versions."
   ]
  },
  {
   "cell_type": "code",
   "execution_count": 90,
   "id": "7f6a8c89-c96c-429c-8c25-343d81d79016",
   "metadata": {},
   "outputs": [
    {
     "data": {
      "image/png": "[encoded data removed]",
      "text/plain": [
       "<Figure size 700x300 with 2 Axes>"
      ]
     },
     "metadata": {},
     "output_type": "display_data"
    }
   ],
   "source": [
    "bins = np.arange(-15,16)\n",
    "\n",
    "plt.figure(figsize=(7,3))\n",
    "plt.subplot(1,2,1)\n",
    "plt.title('GFS v15')\n",
    "plt.hist(gfs15_sample, bins)\n",
    "plt.grid()\n",
    "plt.ylabel(\"Count\")\n",
    "plt.xlabel(\"Temperature Error [C]\")\n",
    "\n",
    "plt.subplot(1,2,2,sharey=plt.gca())\n",
    "plt.title('GFS v16')\n",
    "plt.hist(gfs16_sample, bins)\n",
    "plt.grid()\n",
    "plt.ylabel(\"Count\")\n",
    "plt.xlabel(\"Temperature Error [C]\")\n",
    "plt.tight_layout()\n",
    "\n",
    "plt.show()"
   ]
  },
  {
   "cell_type": "markdown",
   "id": "6ec99709-1ef2-4e74-b9ea-73eeba313780",
   "metadata": {},
   "source": [
    "These two distributions look pretty similar!  How might we know whether or not we actually have an improvement in the GFS with v16?\n",
    "\n",
    "Python makes a lot of statistical testing pretty easy.  Each test computes a test statistic and the P-value.  The SciPy package has a number of statistical tests we can apply to our data.  We're going to use a test called the *t-test* which is a very commonly used test to figure out if the two sample datasets we create are from the same population.  This test will return two variables.  The first is the T-statistic value, the second is the P-value."
   ]
  },
  {
   "cell_type": "code",
   "execution_count": 97,
   "id": "74ec1070-e352-4d38-8c21-e08b0c3f6a3f",
   "metadata": {},
   "outputs": [
    {
     "name": "stdout",
     "output_type": "stream",
     "text": [
      "T-statistic value:  0.6056222156913355\n",
      "P-Value:  0.5461860642191445\n"
     ]
    }
   ],
   "source": [
    "t_stat, p_value = stats.ttest_ind(gfs15_sample, gfs16_sample, equal_var=False)\n",
    "print(\"T-statistic value: \", t_stat)\n",
    "print(\"P-Value: \", p_value)"
   ]
  },
  {
   "cell_type": "markdown",
   "id": "cfcf4ab9-6eac-4b1c-8f8e-b578964c60d3",
   "metadata": {},
   "source": [
    "Now that we have our P-value, we can figure out whether or not we need to reject the null hypothesis.  We must set a significance level!  This is often at 95%, which means the P-value must be less than 0.05.  For this test, failing to reject the null hypothesis means that the two datasets (GFSv15 and GFSv16) are statistically no different from one another."
   ]
  },
  {
   "cell_type": "code",
   "execution_count": 83,
   "id": "f874b722-e9c3-4a5b-95f2-37efbfebc11b",
   "metadata": {},
   "outputs": [
    {
     "name": "stdout",
     "output_type": "stream",
     "text": [
      "Reject the null hypothesis.\n"
     ]
    }
   ],
   "source": [
    "alpha = 0.05 # significance level\n",
    "if p_value <= alpha:\n",
    "    print(\"Reject the null hypothesis.\")\n",
    "else:\n",
    "    print(\"Fail to reject the null hypothesis.\")"
   ]
  },
  {
   "cell_type": "markdown",
   "id": "32cabb4f-15ff-4bd0-af41-baa64230c240",
   "metadata": {},
   "source": [
    "The results indicate a p-value of 0.54, which is less than $\\alpha=0.05$, which means we cannot reject the null hypothesis.  So this two-sample t-test concludes that the mean of the first sample is neither greater or less than the mean of the second sample.\n",
    "\n",
    "Python also makes it pretty easy to compute the confidence intervals for our data:"
   ]
  },
  {
   "cell_type": "code",
   "execution_count": 100,
   "id": "ce27e14e-1dfa-4b27-8223-9037bfd9b7b5",
   "metadata": {},
   "outputs": [
    {
     "name": "stdout",
     "output_type": "stream",
     "text": [
      "GFSv15: (-5.6674513054047875, 8.34472272988325)\n",
      "GFSv16: (-7.026055339794609, 8.793500357239324)\n"
     ]
    }
   ],
   "source": [
    "def compute_ci(sample, confidence_level=0.95):\n",
    "    degrees_of_freedom = len(sample) - 1\n",
    "    sample_mean = np.mean(sample)\n",
    "    sample_std_deviation = np.std(sample)\n",
    "\n",
    "    ci = stats.t.interval(confidence = confidence_level, df = degrees_of_freedom, loc = sample_mean, scale = sample_std_deviation)\n",
    "    return ci\n",
    "\n",
    "print(\"GFSv15:\", compute_ci(gfs15_sample))\n",
    "print(\"GFSv16:\", compute_ci(gfs16_sample))"
   ]
  },
  {
   "cell_type": "markdown",
   "id": "d2846a76-ed5f-4d1e-9a25-199af81b9e05",
   "metadata": {},
   "source": [
    "### Example 2"
   ]
  },
  {
   "cell_type": "code",
   "execution_count": 93,
   "id": "445616b7-29c8-420d-80d3-392fd6040408",
   "metadata": {},
   "outputs": [
    {
     "data": {
      "text/plain": [
       "<function scipy.stats._stats_py.pearsonr(x, y, *, alternative='two-sided')>"
      ]
     },
     "execution_count": 93,
     "metadata": {},
     "output_type": "execute_result"
    }
   ],
   "source": [
    "stats.pearsonr()"
   ]
  },
  {
   "cell_type": "code",
   "execution_count": null,
   "id": "99be60b3-7042-48d7-b5be-0d6186e891a0",
   "metadata": {},
   "outputs": [],
   "source": []
  }
 ],
 "metadata": {
  "kernelspec": {
   "display_name": "Python 3 (ipykernel)",
   "language": "python",
   "name": "python3"
  },
  "language_info": {
   "codemirror_mode": {
    "name": "ipython",
    "version": 3
   },
   "file_extension": ".py",
   "mimetype": "text/x-python",
   "name": "python",
   "nbconvert_exporter": "python",
   "pygments_lexer": "ipython3",
   "version": "3.10.8"
  }
 },
 "nbformat": 4,
 "nbformat_minor": 5
}
