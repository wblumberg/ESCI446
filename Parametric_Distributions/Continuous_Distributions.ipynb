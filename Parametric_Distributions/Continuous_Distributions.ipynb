{
 "cells": [
  {
   "cell_type": "markdown",
   "id": "dcd4b76c-16f7-4848-95a1-9d178876fdde",
   "metadata": {},
   "source": [
    "# Continuous Parametric Probability Distributions"
   ]
  },
  {
   "cell_type": "code",
   "execution_count": 3,
   "id": "d382f831-05ee-46bf-a244-24f5b5ddbbed",
   "metadata": {},
   "outputs": [],
   "source": [
    "import scipy.stats as stats # This is the statistics package\n",
    "%matplotlib inline\n",
    "import numpy as np\n",
    "import matplotlib.pyplot as plt\n",
    "import pandas as pd\n",
    "\n",
    "np.random.seed(1234) # set a standard seed so that we can all see the same distributions"
   ]
  },
  {
   "cell_type": "markdown",
   "id": "1f66703e-fd9c-4c20-8083-a1e875c47d2a",
   "metadata": {},
   "source": [
    "## 1.) Uniform PDF"
   ]
  },
  {
   "cell_type": "code",
   "execution_count": 4,
   "id": "06c80061-dad1-459b-ba24-a172bf56f3fc",
   "metadata": {},
   "outputs": [],
   "source": [
    "uniform_data = stats.uniform.rvs(size=100000, loc=0, scale=10)\n",
    "uniform_data_df = pd.DataFrame(uniform_data)"
   ]
  },
  {
   "cell_type": "code",
   "execution_count": 5,
   "id": "198afe6c-e3c3-4bb5-8a3e-0ec9b26adc75",
   "metadata": {},
   "outputs": [
    {
     "data": {
      "text/html": [
       "<div>\n",
       "<style scoped>\n",
       "    .dataframe tbody tr th:only-of-type {\n",
       "        vertical-align: middle;\n",
       "    }\n",
       "\n",
       "    .dataframe tbody tr th {\n",
       "        vertical-align: top;\n",
       "    }\n",
       "\n",
       "    .dataframe thead th {\n",
       "        text-align: right;\n",
       "    }\n",
       "</style>\n",
       "<table border=\"1\" class=\"dataframe\">\n",
       "  <thead>\n",
       "    <tr style=\"text-align: right;\">\n",
       "      <th></th>\n",
       "      <th>0</th>\n",
       "    </tr>\n",
       "  </thead>\n",
       "  <tbody>\n",
       "    <tr>\n",
       "      <th>0</th>\n",
       "      <td>1.915195</td>\n",
       "    </tr>\n",
       "    <tr>\n",
       "      <th>1</th>\n",
       "      <td>6.221088</td>\n",
       "    </tr>\n",
       "    <tr>\n",
       "      <th>2</th>\n",
       "      <td>4.377277</td>\n",
       "    </tr>\n",
       "    <tr>\n",
       "      <th>3</th>\n",
       "      <td>7.853586</td>\n",
       "    </tr>\n",
       "    <tr>\n",
       "      <th>4</th>\n",
       "      <td>7.799758</td>\n",
       "    </tr>\n",
       "    <tr>\n",
       "      <th>...</th>\n",
       "      <td>...</td>\n",
       "    </tr>\n",
       "    <tr>\n",
       "      <th>99995</th>\n",
       "      <td>9.753037</td>\n",
       "    </tr>\n",
       "    <tr>\n",
       "      <th>99996</th>\n",
       "      <td>5.529440</td>\n",
       "    </tr>\n",
       "    <tr>\n",
       "      <th>99997</th>\n",
       "      <td>3.602557</td>\n",
       "    </tr>\n",
       "    <tr>\n",
       "      <th>99998</th>\n",
       "      <td>2.590960</td>\n",
       "    </tr>\n",
       "    <tr>\n",
       "      <th>99999</th>\n",
       "      <td>0.758317</td>\n",
       "    </tr>\n",
       "  </tbody>\n",
       "</table>\n",
       "<p>100000 rows × 1 columns</p>\n",
       "</div>"
      ],
      "text/plain": [
       "              0\n",
       "0      1.915195\n",
       "1      6.221088\n",
       "2      4.377277\n",
       "3      7.853586\n",
       "4      7.799758\n",
       "...         ...\n",
       "99995  9.753037\n",
       "99996  5.529440\n",
       "99997  3.602557\n",
       "99998  2.590960\n",
       "99999  0.758317\n",
       "\n",
       "[100000 rows x 1 columns]"
      ]
     },
     "execution_count": 5,
     "metadata": {},
     "output_type": "execute_result"
    }
   ],
   "source": [
    "uniform_data_df"
   ]
  },
  {
   "cell_type": "code",
   "execution_count": 6,
   "id": "8e6f9841-5dd9-4d36-8f11-fac1403242e6",
   "metadata": {},
   "outputs": [
    {
     "data": {
      "text/plain": [
       "<AxesSubplot:ylabel='Density'>"
      ]
     },
     "execution_count": 6,
     "metadata": {},
     "output_type": "execute_result"
    },
    {
     "data": {
      "image/png": "[encoded data removed]",
      "text/plain": [
       "<Figure size 432x288 with 1 Axes>"
      ]
     },
     "metadata": {
      "needs_background": "light"
     },
     "output_type": "display_data"
    }
   ],
   "source": [
    "uniform_data_df.plot(kind='density', grid=True)"
   ]
  },
  {
   "cell_type": "code",
   "execution_count": 7,
   "id": "ab5d39ac-431a-4b98-8688-34c74a891fc7",
   "metadata": {},
   "outputs": [
    {
     "data": {
      "text/plain": [
       "0.5"
      ]
     },
     "execution_count": 7,
     "metadata": {},
     "output_type": "execute_result"
    }
   ],
   "source": [
    "stats.uniform.cdf(x=5, loc=0, scale=10)\n",
    "# This will give the output of 0.5 which means that in this particular uniform distribution, if we pick out an observation, there is a 50% chance that it would be between 0 and 5."
   ]
  },
  {
   "cell_type": "code",
   "execution_count": 8,
   "id": "410be7da-2321-462f-bc20-8f405ee50b0a",
   "metadata": {},
   "outputs": [
    {
     "data": {
      "text/plain": [
       "3.0"
      ]
     },
     "execution_count": 8,
     "metadata": {},
     "output_type": "execute_result"
    }
   ],
   "source": [
    "# The inverse of cdf is ppf. Given the probability, ppf gives the cutoff on the x axis. \n",
    "# For example, to get the cutoff value for which we have 30% chance of drawing an observation below that value\n",
    "stats.uniform.ppf(q=0.3, #probability cutoff\n",
    "                 loc=0, #distribution start\n",
    "                 scale=10) #distribution end"
   ]
  },
  {
   "cell_type": "markdown",
   "id": "c0864ce8-9bf1-45d1-81d6-25fc34898dd7",
   "metadata": {},
   "source": [
    "## 2.) Student-T's PDF"
   ]
  },
  {
   "cell_type": "code",
   "execution_count": 52,
   "id": "2338da41-dc62-4600-9128-1b9ee9635180",
   "metadata": {},
   "outputs": [],
   "source": [
    "degrees_of_freedom = 1\n",
    "t_df = stats.t.rvs(degrees_of_freedom, size=1000000)\n",
    "student_t_dist = pd.DataFrame(t_df)\n",
    "# The t distribution is a symmetrical distribution (very similar to Gaussian), but with more probablity assigned to the tails"
   ]
  },
  {
   "cell_type": "code",
   "execution_count": 55,
   "id": "816eab49-c545-4c3b-9686-39cb8acbfe52",
   "metadata": {},
   "outputs": [
    {
     "name": "stderr",
     "output_type": "stream",
     "text": [
      "/Users/wgblumbe/miniconda3/envs/py39/lib/python3.9/site-packages/pandas/core/internals/blocks.py:402: RuntimeWarning: invalid value encountered in log\n",
      "  result = func(self.values, **kwargs)\n"
     ]
    },
    {
     "data": {
      "image/png": "[encoded data removed]",
      "text/plain": [
       "<Figure size 432x288 with 1 Axes>"
      ]
     },
     "metadata": {
      "needs_background": "light"
     },
     "output_type": "display_data"
    }
   ],
   "source": [
    "# For example:\n",
    "plt.title(\"Student's T Distribution\")\n",
    "plt.hist(np.log(student_t_dist), 100)\n",
    "plt.grid()\n",
    "plt.ylabel(\"Count\")\n",
    "plt.xlabel(\"Value\")\n",
    "plt.show()"
   ]
  },
  {
   "cell_type": "markdown",
   "id": "677d97de-f8a3-4143-9367-8ac417c82dc1",
   "metadata": {},
   "source": [
    "## 3.) Chi-Squared PDF"
   ]
  },
  {
   "cell_type": "code",
   "execution_count": 60,
   "id": "e2309a8a-5875-4ef0-b667-7822dcc7710c",
   "metadata": {},
   "outputs": [
    {
     "data": {
      "image/png": "[encoded data removed]",
      "text/plain": [
       "<Figure size 432x288 with 1 Axes>"
      ]
     },
     "metadata": {
      "needs_background": "light"
     },
     "output_type": "display_data"
    }
   ],
   "source": [
    "degrees_of_freedom = 1\n",
    "df = stats.chi2.rvs(degrees_of_freedom, size=1000000)\n",
    "chi2_dist = pd.DataFrame(df)\n",
    "\n",
    "plt.title(\"Chi Squared Distribution\")\n",
    "plt.hist(chi2_dist, 100)\n",
    "#plt.yscale('log')\n",
    "plt.grid()\n",
    "plt.ylabel(\"Count\")\n",
    "plt.xlabel(\"Value\")\n",
    "plt.show()"
   ]
  },
  {
   "cell_type": "markdown",
   "id": "a8b0349a-ca06-4c25-bfb4-0487ea51ab49",
   "metadata": {},
   "source": [
    "## 4.) Gamma PDF"
   ]
  },
  {
   "cell_type": "code",
   "execution_count": 59,
   "id": "e34e15e8-b5bb-4ddf-970e-f8ca66942045",
   "metadata": {},
   "outputs": [
    {
     "data": {
      "image/png": "[encoded data removed]",
      "text/plain": [
       "<Figure size 432x288 with 1 Axes>"
      ]
     },
     "metadata": {
      "needs_background": "light"
     },
     "output_type": "display_data"
    }
   ],
   "source": [
    "degrees_of_freedom = 1\n",
    "df = stats.gamma.rvs(degrees_of_freedom, size=1000000)\n",
    "gamma_dist = pd.DataFrame(df)\n",
    "\n",
    "plt.title(\"Gamma Distribution\")\n",
    "plt.hist(gamma_dist, 100)\n",
    "#plt.yscale('log')\n",
    "plt.grid()\n",
    "plt.ylabel(\"Count\")\n",
    "plt.xlabel(\"Value\")\n",
    "plt.show()"
   ]
  },
  {
   "cell_type": "code",
   "execution_count": null,
   "id": "80fdbc12-c23e-4efe-a53e-4b3ad65da3c0",
   "metadata": {},
   "outputs": [],
   "source": []
  }
 ],
 "metadata": {
  "kernelspec": {
   "display_name": "Python 3 (ipykernel)",
   "language": "python",
   "name": "python3"
  },
  "language_info": {
   "codemirror_mode": {
    "name": "ipython",
    "version": 3
   },
   "file_extension": ".py",
   "mimetype": "text/x-python",
   "name": "python",
   "nbconvert_exporter": "python",
   "pygments_lexer": "ipython3",
   "version": "3.10.8"
  }
 },
 "nbformat": 4,
 "nbformat_minor": 5
}
