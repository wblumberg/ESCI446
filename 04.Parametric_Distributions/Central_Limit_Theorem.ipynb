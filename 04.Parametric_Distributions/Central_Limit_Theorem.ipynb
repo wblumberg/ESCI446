{
 "cells": [
  {
   "cell_type": "markdown",
   "id": "b4976e69-a648-4483-9c1c-baeb6396a156",
   "metadata": {},
   "source": [
    "# The Central Limit Theorem\n",
    "\n",
    "Start off with some import statements.  We'll also set the random number generator seed here."
   ]
  },
  {
   "cell_type": "code",
   "execution_count": 111,
   "id": "42608eaf-51d8-48d0-9fc9-b88dca60688c",
   "metadata": {},
   "outputs": [],
   "source": [
    "%matplotlib inline\n",
    "import matplotlib.pyplot as plt\n",
    "import numpy as np\n",
    "import scipy.stats as stats\n",
    "\n",
    "np.random.seed(1)"
   ]
  },
  {
   "cell_type": "markdown",
   "id": "69a6a06e-943e-444d-8205-a8d5f6d37e01",
   "metadata": {},
   "source": [
    "## Illustrating the CLT via Experiments\n",
    "\n",
    "The CLT can be illustrated by repeating the following process $k$ times:\n",
    "\n",
    "1. Drawing a number of samples (represented by $n$ from a population).  To best illustrate this, we can use a parameteric probability distribution, like the Gamma or Normal distribution.\n",
    "2. Calculate the mean from those $n$ samples.\n",
    "\n",
    "As a result, we obtain a distribution of $k$ estimates of the mean of the population.\n",
    "\n",
    "*You should try to alter these three variables for these experiments.*\n",
    "\n",
    "1. The value of k.\n",
    "2. The value of n.\n",
    "3. The probability distribution function (Use the Continuous Distributions notebook).\n",
    "\n",
    "**How might you describe the distribition of the means from this experiment?**"
   ]
  },
  {
   "cell_type": "code",
   "execution_count": 116,
   "id": "8e154ac6-cfe6-4ee1-b0da-9fb799410ab2",
   "metadata": {},
   "outputs": [
    {
     "data": {
      "image/png": "[encoded data removed]",
      "text/plain": [
       "<Figure size 432x288 with 1 Axes>"
      ]
     },
     "metadata": {
      "needs_background": "light"
     },
     "output_type": "display_data"
    }
   ],
   "source": [
    "length = 1000 # This is the number of times we draw samples (k).\n",
    "sample_size = 40 # This is the number of samples to draw from the distribution (n).\n",
    "means = np.zeros(length) # This is the array holding the sampling distribution of the mean of length k.\n",
    "\n",
    "# Here is the loop to do the resampling.\n",
    "for i in range(0,len(means),1):\n",
    "    dataset = stats.gamma.rvs(3, loc=0, scale=1, size=sample_size)\n",
    "    means[i] = np.mean(dataset) # Calculate the mean using the samples drawn from the distribution.\n",
    "\n",
    "# Let's show the distribution of the means by using a histogram.\n",
    "plt.hist(means, density=True)\n",
    "plt.ylabel(\"Frequency\")\n",
    "plt.xlabel(\"Mean Value\")\n",
    "plt.grid()\n",
    "plt.show()"
   ]
  },
  {
   "cell_type": "code",
   "execution_count": null,
   "id": "8f2f153b-a4bb-4d42-9559-09f80d50c9e1",
   "metadata": {},
   "outputs": [],
   "source": []
  }
 ],
 "metadata": {
  "kernelspec": {
   "display_name": "Python 3 (ipykernel)",
   "language": "python",
   "name": "python3"
  },
  "language_info": {
   "codemirror_mode": {
    "name": "ipython",
    "version": 3
   },
   "file_extension": ".py",
   "mimetype": "text/x-python",
   "name": "python",
   "nbconvert_exporter": "python",
   "pygments_lexer": "ipython3",
   "version": "3.10.8"
  }
 },
 "nbformat": 4,
 "nbformat_minor": 5
}
