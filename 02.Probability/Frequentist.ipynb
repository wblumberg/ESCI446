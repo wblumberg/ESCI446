{
 "cells": [
  {
   "cell_type": "markdown",
   "id": "a4a8a4ee-8456-490a-9d95-53421dcfea20",
   "metadata": {},
   "source": [
    "# Examples of the Frequentist Framework"
   ]
  },
  {
   "cell_type": "markdown",
   "id": "29704c00-a1e4-4d0b-85f9-bb0f4a65092c",
   "metadata": {},
   "source": [
    "As mentioned on Tuesday, the Frequentist perspective tends to focus on probabilities about the data, rather than the hypothesis or parameters.  The primary aim of many frequentist tests on data is to see if you can reject the null hypothesis:\n",
    "\n",
    "$H_0$ - The null hypothesis suggests that no statistical relationship and significance exists in a set of given single observed variable, between two sets of observed data and measured phenomena.\n",
    "\n",
    "There are many different ways to test hypotheses (we'll get to more of these later), but this notebook introduces two scenarios you can explore.\n",
    "\n",
    "First, let's import a few packages that will help us:"
   ]
  },
  {
   "cell_type": "code",
   "execution_count": 101,
   "id": "1887ae87-c682-4f64-b0f5-e7cbc1d6e4e4",
   "metadata": {},
   "outputs": [],
   "source": [
    "%matplotlib inline\n",
    "import numpy as np\n",
    "import pandas as pd\n",
    "import scipy.stats as stats\n",
    "import matplotlib.pyplot as plt"
   ]
  },
  {
   "cell_type": "markdown",
   "id": "65f9d5a6-4472-42f3-9ec8-e54b9f3139ff",
   "metadata": {},
   "source": [
    "Now, we're going to use some random numbers that Python can generate for us.  However, to make things simple, we're going to force Python to generate the same random numbers for each person running this notebook.  To do this, we set the \"seed\" to be the same value across computers."
   ]
  },
  {
   "cell_type": "code",
   "execution_count": 24,
   "id": "bc140bbb-7fcd-4448-a3e2-288246de1f9e",
   "metadata": {},
   "outputs": [],
   "source": [
    "# seed the random number generator (this helps everyone stay consistent)\n",
    "np.random.seed(1)"
   ]
  },
  {
   "cell_type": "markdown",
   "id": "49b8f9ce-f270-466d-88bc-075bc22c5b23",
   "metadata": {},
   "source": [
    "### Example 1"
   ]
  },
  {
   "cell_type": "markdown",
   "id": "3ed4cd56-05bd-4665-9784-b4655867b426",
   "metadata": {},
   "source": [
    "Imagine that you're working at the Environmental Modeling Center in College Park, MD.  Your job is to help improve the forecast models, and in particular the Global Forecasting System (GFS).  Your group has been developing the 16th version of the GFS model and has been running both Version 16 and Version 15 of the GFS to compare their accuracy at forecasting temperature.  \n",
    "\n",
    "For this scenario, we're going to generate a random distribution of temperature errors from each \"version\".  We're making up some fake data here for simplicity using the Normal Distribution, which needs a mean (loc), spread (scale), and size.  Keep in mind that in reality, we don't know much about the underlying distribution of errors (e.g., mean, spread, etc.).  We can only sample them.\n",
    "\n",
    "For the GFSv15, we're going imagine that it has a warm bias, and we'll make that bias to be 1 C.  In our updated model (GFSv16), we've made changes tht removed the bias.  Let's generate our fake data here.  Imagine that we have $N_{forecasts}=50$."
   ]
  },
  {
   "cell_type": "code",
   "execution_count": 89,
   "id": "ccdb4dae-f7d8-4dbd-a90e-3e721e0dc957",
   "metadata": {},
   "outputs": [],
   "source": [
    "N_forecasts = 50\n",
    "\n",
    "gfs15_bias = 1\n",
    "gfs16_bias = 0\n",
    "\n",
    "# create two independent sample groups\n",
    "gfs15_sample = np.random.normal(loc=gfs15_bias, scale=4, size=N_forecasts)\n",
    "gfs16_sample = np.random.normal(loc=gfs16_bias, scale=4, size=N_forecasts)"
   ]
  },
  {
   "cell_type": "markdown",
   "id": "66d3b2cf-933a-4c73-9fcc-931471271395",
   "metadata": {},
   "source": [
    "Before we do anything else, let's stop and take a look at the data we generated.  Let's make two plots - each is a histogram of the temperature errors from the two GFS versions."
   ]
  },
  {
   "cell_type": "code",
   "execution_count": 90,
   "id": "7f6a8c89-c96c-429c-8c25-343d81d79016",
   "metadata": {},
   "outputs": [
    {
     "data": {
      "image/png": "[encoded data removed]",
      "text/plain": [
       "<Figure size 700x300 with 2 Axes>"
      ]
     },
     "metadata": {},
     "output_type": "display_data"
    }
   ],
   "source": [
    "bins = np.arange(-15,16)\n",
    "\n",
    "plt.figure(figsize=(7,3))\n",
    "plt.subplot(1,2,1)\n",
    "plt.title('GFS v15')\n",
    "plt.hist(gfs15_sample, bins)\n",
    "plt.grid()\n",
    "plt.ylabel(\"Count\")\n",
    "plt.xlabel(\"Temperature Error [C]\")\n",
    "\n",
    "plt.subplot(1,2,2,sharey=plt.gca())\n",
    "plt.title('GFS v16')\n",
    "plt.hist(gfs16_sample, bins)\n",
    "plt.grid()\n",
    "plt.ylabel(\"Count\")\n",
    "plt.xlabel(\"Temperature Error [C]\")\n",
    "plt.tight_layout()\n",
    "\n",
    "plt.show()"
   ]
  },
  {
   "cell_type": "markdown",
   "id": "6ec99709-1ef2-4e74-b9ea-73eeba313780",
   "metadata": {},
   "source": [
    "These two distributions look pretty similar!  How might we know whether or not we actually have an improvement in the GFS with v16?\n",
    "\n",
    "Python makes a lot of statistical testing pretty easy.  Each test computes a test statistic and the P-value.  The SciPy package has a number of statistical tests we can apply to our data.  We're going to use a test called the *t-test* which is a very commonly used test to figure out if the two sample datasets we create are from the same population.  This test will return two variables.  The first is the T-statistic value, the second is the P-value."
   ]
  },
  {
   "cell_type": "code",
   "execution_count": 97,
   "id": "74ec1070-e352-4d38-8c21-e08b0c3f6a3f",
   "metadata": {},
   "outputs": [
    {
     "name": "stdout",
     "output_type": "stream",
     "text": [
      "T-statistic value:  0.6056222156913355\n",
      "P-Value:  0.5461860642191445\n"
     ]
    }
   ],
   "source": [
    "t_stat, p_value = stats.ttest_ind(gfs15_sample, gfs16_sample, equal_var=False)\n",
    "print(\"T-statistic value: \", t_stat)\n",
    "print(\"P-Value: \", p_value)"
   ]
  },
  {
   "cell_type": "markdown",
   "id": "cfcf4ab9-6eac-4b1c-8f8e-b578964c60d3",
   "metadata": {},
   "source": [
    "Now that we have our P-value, we can figure out whether or not we need to reject the null hypothesis.  We must set a significance level!  This is often at 95%, which means the P-value must be less than 0.05.  For this test, failing to reject the null hypothesis means that the two datasets (GFSv15 and GFSv16) are statistically no different from one another."
   ]
  },
  {
   "cell_type": "code",
   "execution_count": 83,
   "id": "f874b722-e9c3-4a5b-95f2-37efbfebc11b",
   "metadata": {},
   "outputs": [
    {
     "name": "stdout",
     "output_type": "stream",
     "text": [
      "Reject the null hypothesis.\n"
     ]
    }
   ],
   "source": [
    "alpha = 0.05 # significance level\n",
    "if p_value <= alpha:\n",
    "    print(\"Reject the null hypothesis.\")\n",
    "else:\n",
    "    print(\"Fail to reject the null hypothesis.\")"
   ]
  },
  {
   "cell_type": "markdown",
   "id": "32cabb4f-15ff-4bd0-af41-baa64230c240",
   "metadata": {},
   "source": [
    "The results indicate a p-value of 0.54, which is less than $\\alpha=0.05$, which means we cannot reject the null hypothesis.  So this two-sample t-test concludes that the mean of the first sample is neither greater or less than the mean of the second sample.\n",
    "\n",
    "Python also makes it pretty easy to compute the confidence intervals for our data:"
   ]
  },
  {
   "cell_type": "code",
   "execution_count": 100,
   "id": "ce27e14e-1dfa-4b27-8223-9037bfd9b7b5",
   "metadata": {},
   "outputs": [
    {
     "name": "stdout",
     "output_type": "stream",
     "text": [
      "GFSv15: (-5.6674513054047875, 8.34472272988325)\n",
      "GFSv16: (-7.026055339794609, 8.793500357239324)\n"
     ]
    }
   ],
   "source": [
    "def compute_ci(sample, confidence_level=0.95):\n",
    "    degrees_of_freedom = len(sample) - 1\n",
    "    sample_mean = np.mean(sample)\n",
    "    sample_std_deviation = np.std(sample)\n",
    "\n",
    "    ci = stats.t.interval(confidence = confidence_level, df = degrees_of_freedom, loc = sample_mean, scale = sample_std_deviation)\n",
    "    return ci\n",
    "\n",
    "print(\"GFSv15:\", compute_ci(gfs15_sample))\n",
    "print(\"GFSv16:\", compute_ci(gfs16_sample))"
   ]
  },
  {
   "cell_type": "markdown",
   "id": "d2846a76-ed5f-4d1e-9a25-199af81b9e05",
   "metadata": {},
   "source": [
    "### Example 2"
   ]
  },
  {
   "cell_type": "markdown",
   "id": "245f666c-38de-4008-97ec-bd3395f0b8d0",
   "metadata": {},
   "source": [
    "Sometimes, we want to know if two datasets are correlated.  But is there really a strong relationship between them?  We can also do hypothesis testing on Pearson's correlation coefficient.  Here's a dataset from the Oklahoma Mesonet station at Norman, OK.  We can read it in using the Pandas data analysis package."
   ]
  },
  {
   "cell_type": "code",
   "execution_count": 190,
   "id": "445616b7-29c8-420d-80d3-392fd6040408",
   "metadata": {},
   "outputs": [],
   "source": [
    "data = pd.read_csv('data/nrmn.mts', header=2, delim_whitespace=True)"
   ]
  },
  {
   "cell_type": "code",
   "execution_count": 191,
   "id": "a3ce6868-c3f6-4e7b-a5bb-0b92dab0bde4",
   "metadata": {},
   "outputs": [
    {
     "data": {
      "text/html": [
       "<div>\n",
       "<style scoped>\n",
       "    .dataframe tbody tr th:only-of-type {\n",
       "        vertical-align: middle;\n",
       "    }\n",
       "\n",
       "    .dataframe tbody tr th {\n",
       "        vertical-align: top;\n",
       "    }\n",
       "\n",
       "    .dataframe thead th {\n",
       "        text-align: right;\n",
       "    }\n",
       "</style>\n",
       "<table border=\"1\" class=\"dataframe\">\n",
       "  <thead>\n",
       "    <tr style=\"text-align: right;\">\n",
       "      <th></th>\n",
       "      <th>STID</th>\n",
       "      <th>STNM</th>\n",
       "      <th>TIME</th>\n",
       "      <th>RELH</th>\n",
       "      <th>TAIR</th>\n",
       "      <th>WSPD</th>\n",
       "      <th>WVEC</th>\n",
       "      <th>WDIR</th>\n",
       "      <th>WDSD</th>\n",
       "      <th>WSSD</th>\n",
       "      <th>...</th>\n",
       "      <th>TA9M</th>\n",
       "      <th>WS2M</th>\n",
       "      <th>TS10</th>\n",
       "      <th>TB10</th>\n",
       "      <th>TS05</th>\n",
       "      <th>TS25</th>\n",
       "      <th>TS60</th>\n",
       "      <th>TR05</th>\n",
       "      <th>TR25</th>\n",
       "      <th>TR60</th>\n",
       "    </tr>\n",
       "  </thead>\n",
       "  <tbody>\n",
       "    <tr>\n",
       "      <th>0</th>\n",
       "      <td>NRMN</td>\n",
       "      <td>121</td>\n",
       "      <td>0</td>\n",
       "      <td>32</td>\n",
       "      <td>36.2</td>\n",
       "      <td>3.8</td>\n",
       "      <td>3.7</td>\n",
       "      <td>100</td>\n",
       "      <td>15.1</td>\n",
       "      <td>0.8</td>\n",
       "      <td>...</td>\n",
       "      <td>35.8</td>\n",
       "      <td>2.8</td>\n",
       "      <td>30.2</td>\n",
       "      <td>36.8</td>\n",
       "      <td>31.4</td>\n",
       "      <td>27.3</td>\n",
       "      <td>25.1</td>\n",
       "      <td>3.84</td>\n",
       "      <td>3.67</td>\n",
       "      <td>2.4</td>\n",
       "    </tr>\n",
       "    <tr>\n",
       "      <th>1</th>\n",
       "      <td>NRMN</td>\n",
       "      <td>121</td>\n",
       "      <td>5</td>\n",
       "      <td>32</td>\n",
       "      <td>36.1</td>\n",
       "      <td>3.4</td>\n",
       "      <td>3.3</td>\n",
       "      <td>118</td>\n",
       "      <td>13.9</td>\n",
       "      <td>0.4</td>\n",
       "      <td>...</td>\n",
       "      <td>35.7</td>\n",
       "      <td>2.8</td>\n",
       "      <td>-995.0</td>\n",
       "      <td>-995.0</td>\n",
       "      <td>-995.0</td>\n",
       "      <td>-995.0</td>\n",
       "      <td>-995.0</td>\n",
       "      <td>-995.00</td>\n",
       "      <td>-995.00</td>\n",
       "      <td>-995.0</td>\n",
       "    </tr>\n",
       "    <tr>\n",
       "      <th>2</th>\n",
       "      <td>NRMN</td>\n",
       "      <td>121</td>\n",
       "      <td>10</td>\n",
       "      <td>32</td>\n",
       "      <td>36.0</td>\n",
       "      <td>3.3</td>\n",
       "      <td>3.2</td>\n",
       "      <td>135</td>\n",
       "      <td>15.3</td>\n",
       "      <td>0.5</td>\n",
       "      <td>...</td>\n",
       "      <td>35.7</td>\n",
       "      <td>2.7</td>\n",
       "      <td>-995.0</td>\n",
       "      <td>-995.0</td>\n",
       "      <td>-995.0</td>\n",
       "      <td>-995.0</td>\n",
       "      <td>-995.0</td>\n",
       "      <td>-995.00</td>\n",
       "      <td>-995.00</td>\n",
       "      <td>-995.0</td>\n",
       "    </tr>\n",
       "    <tr>\n",
       "      <th>3</th>\n",
       "      <td>NRMN</td>\n",
       "      <td>121</td>\n",
       "      <td>15</td>\n",
       "      <td>32</td>\n",
       "      <td>36.1</td>\n",
       "      <td>2.8</td>\n",
       "      <td>2.5</td>\n",
       "      <td>114</td>\n",
       "      <td>23.6</td>\n",
       "      <td>0.6</td>\n",
       "      <td>...</td>\n",
       "      <td>35.8</td>\n",
       "      <td>2.2</td>\n",
       "      <td>30.2</td>\n",
       "      <td>36.8</td>\n",
       "      <td>31.3</td>\n",
       "      <td>27.3</td>\n",
       "      <td>25.1</td>\n",
       "      <td>-995.00</td>\n",
       "      <td>-995.00</td>\n",
       "      <td>-995.0</td>\n",
       "    </tr>\n",
       "    <tr>\n",
       "      <th>4</th>\n",
       "      <td>NRMN</td>\n",
       "      <td>121</td>\n",
       "      <td>20</td>\n",
       "      <td>32</td>\n",
       "      <td>35.8</td>\n",
       "      <td>3.5</td>\n",
       "      <td>3.4</td>\n",
       "      <td>128</td>\n",
       "      <td>10.9</td>\n",
       "      <td>0.7</td>\n",
       "      <td>...</td>\n",
       "      <td>35.6</td>\n",
       "      <td>2.8</td>\n",
       "      <td>-995.0</td>\n",
       "      <td>-995.0</td>\n",
       "      <td>-995.0</td>\n",
       "      <td>-995.0</td>\n",
       "      <td>-995.0</td>\n",
       "      <td>-995.00</td>\n",
       "      <td>-995.00</td>\n",
       "      <td>-995.0</td>\n",
       "    </tr>\n",
       "    <tr>\n",
       "      <th>...</th>\n",
       "      <td>...</td>\n",
       "      <td>...</td>\n",
       "      <td>...</td>\n",
       "      <td>...</td>\n",
       "      <td>...</td>\n",
       "      <td>...</td>\n",
       "      <td>...</td>\n",
       "      <td>...</td>\n",
       "      <td>...</td>\n",
       "      <td>...</td>\n",
       "      <td>...</td>\n",
       "      <td>...</td>\n",
       "      <td>...</td>\n",
       "      <td>...</td>\n",
       "      <td>...</td>\n",
       "      <td>...</td>\n",
       "      <td>...</td>\n",
       "      <td>...</td>\n",
       "      <td>...</td>\n",
       "      <td>...</td>\n",
       "      <td>...</td>\n",
       "    </tr>\n",
       "    <tr>\n",
       "      <th>283</th>\n",
       "      <td>NRMN</td>\n",
       "      <td>121</td>\n",
       "      <td>1415</td>\n",
       "      <td>44</td>\n",
       "      <td>33.9</td>\n",
       "      <td>4.4</td>\n",
       "      <td>4.0</td>\n",
       "      <td>40</td>\n",
       "      <td>21.9</td>\n",
       "      <td>1.1</td>\n",
       "      <td>...</td>\n",
       "      <td>33.1</td>\n",
       "      <td>3.5</td>\n",
       "      <td>-995.0</td>\n",
       "      <td>-995.0</td>\n",
       "      <td>-995.0</td>\n",
       "      <td>-995.0</td>\n",
       "      <td>-995.0</td>\n",
       "      <td>-995.00</td>\n",
       "      <td>-995.00</td>\n",
       "      <td>-995.0</td>\n",
       "    </tr>\n",
       "    <tr>\n",
       "      <th>284</th>\n",
       "      <td>NRMN</td>\n",
       "      <td>121</td>\n",
       "      <td>1420</td>\n",
       "      <td>45</td>\n",
       "      <td>33.6</td>\n",
       "      <td>4.2</td>\n",
       "      <td>4.1</td>\n",
       "      <td>55</td>\n",
       "      <td>12.3</td>\n",
       "      <td>0.9</td>\n",
       "      <td>...</td>\n",
       "      <td>33.0</td>\n",
       "      <td>3.5</td>\n",
       "      <td>-995.0</td>\n",
       "      <td>-995.0</td>\n",
       "      <td>-995.0</td>\n",
       "      <td>-995.0</td>\n",
       "      <td>-995.0</td>\n",
       "      <td>-995.00</td>\n",
       "      <td>-995.00</td>\n",
       "      <td>-995.0</td>\n",
       "    </tr>\n",
       "    <tr>\n",
       "      <th>285</th>\n",
       "      <td>NRMN</td>\n",
       "      <td>121</td>\n",
       "      <td>1425</td>\n",
       "      <td>45</td>\n",
       "      <td>33.3</td>\n",
       "      <td>3.9</td>\n",
       "      <td>3.8</td>\n",
       "      <td>46</td>\n",
       "      <td>11.4</td>\n",
       "      <td>1.0</td>\n",
       "      <td>...</td>\n",
       "      <td>32.8</td>\n",
       "      <td>3.3</td>\n",
       "      <td>29.9</td>\n",
       "      <td>35.5</td>\n",
       "      <td>31.0</td>\n",
       "      <td>27.1</td>\n",
       "      <td>25.1</td>\n",
       "      <td>-995.00</td>\n",
       "      <td>-995.00</td>\n",
       "      <td>-995.0</td>\n",
       "    </tr>\n",
       "    <tr>\n",
       "      <th>286</th>\n",
       "      <td>NRMN</td>\n",
       "      <td>121</td>\n",
       "      <td>1430</td>\n",
       "      <td>45</td>\n",
       "      <td>33.4</td>\n",
       "      <td>4.7</td>\n",
       "      <td>4.7</td>\n",
       "      <td>47</td>\n",
       "      <td>8.1</td>\n",
       "      <td>0.8</td>\n",
       "      <td>...</td>\n",
       "      <td>32.8</td>\n",
       "      <td>4.0</td>\n",
       "      <td>-995.0</td>\n",
       "      <td>-995.0</td>\n",
       "      <td>-995.0</td>\n",
       "      <td>-995.0</td>\n",
       "      <td>-995.0</td>\n",
       "      <td>-995.00</td>\n",
       "      <td>-995.00</td>\n",
       "      <td>-995.0</td>\n",
       "    </tr>\n",
       "    <tr>\n",
       "      <th>287</th>\n",
       "      <td>NRMN</td>\n",
       "      <td>121</td>\n",
       "      <td>1435</td>\n",
       "      <td>45</td>\n",
       "      <td>33.3</td>\n",
       "      <td>3.9</td>\n",
       "      <td>3.7</td>\n",
       "      <td>54</td>\n",
       "      <td>17.7</td>\n",
       "      <td>1.0</td>\n",
       "      <td>...</td>\n",
       "      <td>32.9</td>\n",
       "      <td>3.1</td>\n",
       "      <td>-995.0</td>\n",
       "      <td>-995.0</td>\n",
       "      <td>-995.0</td>\n",
       "      <td>-995.0</td>\n",
       "      <td>-995.0</td>\n",
       "      <td>-995.00</td>\n",
       "      <td>-995.00</td>\n",
       "      <td>-995.0</td>\n",
       "    </tr>\n",
       "  </tbody>\n",
       "</table>\n",
       "<p>288 rows × 24 columns</p>\n",
       "</div>"
      ],
      "text/plain": [
       "     STID  STNM  TIME  RELH  TAIR  WSPD  WVEC  WDIR  WDSD  WSSD  ...  TA9M  \\\n",
       "0    NRMN   121     0    32  36.2   3.8   3.7   100  15.1   0.8  ...  35.8   \n",
       "1    NRMN   121     5    32  36.1   3.4   3.3   118  13.9   0.4  ...  35.7   \n",
       "2    NRMN   121    10    32  36.0   3.3   3.2   135  15.3   0.5  ...  35.7   \n",
       "3    NRMN   121    15    32  36.1   2.8   2.5   114  23.6   0.6  ...  35.8   \n",
       "4    NRMN   121    20    32  35.8   3.5   3.4   128  10.9   0.7  ...  35.6   \n",
       "..    ...   ...   ...   ...   ...   ...   ...   ...   ...   ...  ...   ...   \n",
       "283  NRMN   121  1415    44  33.9   4.4   4.0    40  21.9   1.1  ...  33.1   \n",
       "284  NRMN   121  1420    45  33.6   4.2   4.1    55  12.3   0.9  ...  33.0   \n",
       "285  NRMN   121  1425    45  33.3   3.9   3.8    46  11.4   1.0  ...  32.8   \n",
       "286  NRMN   121  1430    45  33.4   4.7   4.7    47   8.1   0.8  ...  32.8   \n",
       "287  NRMN   121  1435    45  33.3   3.9   3.7    54  17.7   1.0  ...  32.9   \n",
       "\n",
       "     WS2M   TS10   TB10   TS05   TS25   TS60    TR05    TR25   TR60  \n",
       "0     2.8   30.2   36.8   31.4   27.3   25.1    3.84    3.67    2.4  \n",
       "1     2.8 -995.0 -995.0 -995.0 -995.0 -995.0 -995.00 -995.00 -995.0  \n",
       "2     2.7 -995.0 -995.0 -995.0 -995.0 -995.0 -995.00 -995.00 -995.0  \n",
       "3     2.2   30.2   36.8   31.3   27.3   25.1 -995.00 -995.00 -995.0  \n",
       "4     2.8 -995.0 -995.0 -995.0 -995.0 -995.0 -995.00 -995.00 -995.0  \n",
       "..    ...    ...    ...    ...    ...    ...     ...     ...    ...  \n",
       "283   3.5 -995.0 -995.0 -995.0 -995.0 -995.0 -995.00 -995.00 -995.0  \n",
       "284   3.5 -995.0 -995.0 -995.0 -995.0 -995.0 -995.00 -995.00 -995.0  \n",
       "285   3.3   29.9   35.5   31.0   27.1   25.1 -995.00 -995.00 -995.0  \n",
       "286   4.0 -995.0 -995.0 -995.0 -995.0 -995.0 -995.00 -995.00 -995.0  \n",
       "287   3.1 -995.0 -995.0 -995.0 -995.0 -995.0 -995.00 -995.00 -995.0  \n",
       "\n",
       "[288 rows x 24 columns]"
      ]
     },
     "execution_count": 191,
     "metadata": {},
     "output_type": "execute_result"
    }
   ],
   "source": [
    "data"
   ]
  },
  {
   "cell_type": "markdown",
   "id": "a92563d1-95bb-4f76-a41b-04a8b5ab35ff",
   "metadata": {},
   "source": [
    "Something nice about the Pandas DataFrames (which is the object type that our dataset gets read into) is that we can truncate it.  For now, let's keep all 288 rows.  You may want to alter the number of data points and see how it impacts the correlation coefficient."
   ]
  },
  {
   "cell_type": "code",
   "execution_count": 196,
   "id": "e354baba-6095-4b29-8dbb-5fbe9147b7e5",
   "metadata": {},
   "outputs": [],
   "source": [
    "N = 288\n",
    "data = data.iloc[:N,:]"
   ]
  },
  {
   "cell_type": "markdown",
   "id": "364d31a7-29a1-4f98-8e78-5ff57ebae887",
   "metadata": {},
   "source": [
    "Let's plot some of the data as as scatter plot.  This is a good way to start to visualize the relationships between data points and any possible correlations.  Let's look at Temperaturer (TAIR) and Relative Humidity (RELH).  Do these two variables look correlated?"
   ]
  },
  {
   "cell_type": "code",
   "execution_count": 198,
   "id": "9fcee1ff-faee-4c96-a5bb-d1aeffb60149",
   "metadata": {},
   "outputs": [
    {
     "data": {
      "text/plain": [
       "<AxesSubplot:xlabel='TAIR', ylabel='RELH'>"
      ]
     },
     "execution_count": 198,
     "metadata": {},
     "output_type": "execute_result"
    },
    {
     "data": {
      "image/png": "[encoded data removed]",
      "text/plain": [
       "<Figure size 640x480 with 1 Axes>"
      ]
     },
     "metadata": {},
     "output_type": "display_data"
    }
   ],
   "source": [
    "var1 = 'TAIR'\n",
    "var2 = 'RELH'\n",
    "data.plot(x=var1, y=var2, kind='scatter', grid=True)"
   ]
  },
  {
   "cell_type": "markdown",
   "id": "c4563966-f9f1-495f-ab17-efdd81ccd648",
   "metadata": {},
   "source": [
    "Let's use the SciPy stats package to deteremine how correlated these two variables are."
   ]
  },
  {
   "cell_type": "code",
   "execution_count": 199,
   "id": "493c1138-c67b-46f3-8101-b2c5eb8c0bff",
   "metadata": {},
   "outputs": [
    {
     "name": "stdout",
     "output_type": "stream",
     "text": [
      "R= -0.8707550621632547\n",
      "P-value= 3.6606584776948053e-90\n"
     ]
    }
   ],
   "source": [
    "r, p_value = stats.pearsonr(data[var1], data[var2])\n",
    "print(\"R=\", r)\n",
    "print(\"P-value=\",p_value)"
   ]
  },
  {
   "cell_type": "markdown",
   "id": "cb5221e6-33f9-46aa-914e-6966821b266d",
   "metadata": {},
   "source": [
    "These two variables are inversely correlated.  This makes sense!  As temperature goes up, relative humidity goes down.  The scipy pearsonr function also gives us a P-value so we can assess the statistical significance of this relationship."
   ]
  },
  {
   "cell_type": "code",
   "execution_count": 200,
   "id": "04e4da72-6e09-4456-966b-22e4e9746e2e",
   "metadata": {},
   "outputs": [
    {
     "name": "stdout",
     "output_type": "stream",
     "text": [
      "Reject the null hypothesis.\n"
     ]
    }
   ],
   "source": [
    "alpha = 0.05 # significance level\n",
    "if p_value <= alpha:\n",
    "    print(\"Reject the null hypothesis.\")\n",
    "else:\n",
    "    print(\"Fail to reject the null hypothesis.\")"
   ]
  },
  {
   "cell_type": "markdown",
   "id": "1316f9e2-e212-4c72-a662-fd36bf82ccdd",
   "metadata": {},
   "source": [
    "The results indicate a p-value of 3.6e-90, which is **MUCH** less than $\\alpha=0.05$, which means we reject the null hypothesis. "
   ]
  }
 ],
 "metadata": {
  "kernelspec": {
   "display_name": "Python 3 (ipykernel)",
   "language": "python",
   "name": "python3"
  },
  "language_info": {
   "codemirror_mode": {
    "name": "ipython",
    "version": 3
   },
   "file_extension": ".py",
   "mimetype": "text/x-python",
   "name": "python",
   "nbconvert_exporter": "python",
   "pygments_lexer": "ipython3",
   "version": "3.10.8"
  }
 },
 "nbformat": 4,
 "nbformat_minor": 5
}
